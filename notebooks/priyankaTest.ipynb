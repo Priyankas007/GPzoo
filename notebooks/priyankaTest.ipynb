{
 "cells": [
  {
   "cell_type": "code",
   "execution_count": 1,
   "metadata": {},
   "outputs": [],
   "source": [
    "import torch\n",
    "import matplotlib.pyplot as plt\n",
    "from torch import optim, distributions, nn\n",
    "from tqdm.notebook import tqdm\n",
    "from sklearn.datasets import fetch_olivetti_faces\n",
    "from gpzoo.kernels import NSF_RBF\n",
    "from gpzoo.gp import NSF"
   ]
  },
  {
   "cell_type": "code",
   "execution_count": 2,
   "metadata": {},
   "outputs": [
    {
     "data": {
      "text/plain": [
       "device(type='cpu')"
      ]
     },
     "execution_count": 2,
     "metadata": {},
     "output_type": "execute_result"
    }
   ],
   "source": [
    "new_model=True\n",
    "device = torch.device('cuda:0' if torch.cuda.is_available() else 'cpu')\n",
    "device"
   ]
  },
  {
   "cell_type": "code",
   "execution_count": 3,
   "metadata": {},
   "outputs": [],
   "source": [
    "data, _ = fetch_olivetti_faces(return_X_y=True, shuffle=True, random_state=97)"
   ]
  },
  {
   "cell_type": "code",
   "execution_count": 4,
   "metadata": {},
   "outputs": [],
   "source": [
    "Y = (data)*255\n",
    "Y = Y.astype(int)\n",
    "Y = torch.tensor(Y)"
   ]
  },
  {
   "cell_type": "code",
   "execution_count": 5,
   "metadata": {},
   "outputs": [],
   "source": [
    "idx = torch.linspace(-32, 32, 64, dtype=torch.float)\n",
    "X = torch.cartesian_prod(-idx, idx).flip(dims=[1])\n",
    "N = X.shape[0]"
   ]
  },
  {
   "cell_type": "code",
   "execution_count": 6,
   "metadata": {},
   "outputs": [
    {
     "data": {
      "text/plain": [
       "NSF(\n",
       "  (kernel): NSF_RBF()\n",
       "  (svgp): SVGP(\n",
       "    (kernel): NSF_RBF()\n",
       "  )\n",
       ")"
      ]
     },
     "execution_count": 6,
     "metadata": {},
     "output_type": "execute_result"
    }
   ],
   "source": [
    "L =10\n",
    "M = 32*32\n",
    "kernel = NSF_RBF(L=L, lengthscale=2)\n",
    "model = NSF(X=X, y=Y, kernel=kernel, M=M, L=L, jitter=1e-2)\n",
    "idz = torch.multinomial(torch.ones(X.shape[0]), num_samples=M, replacement=False)\n",
    "model.svgp.Z = nn.Parameter(X[idz])\n",
    "\n",
    "if not new_model:\n",
    "    model.load_state_dict(torch.load('eigenfaces_nsf', map_location=device))\n",
    "    \n",
    "model.to(device)"
   ]
  },
  {
   "cell_type": "code",
   "execution_count": 7,
   "metadata": {},
   "outputs": [],
   "source": [
    "X_train = X.to(device)\n",
    "Y_train = Y.to(device)"
   ]
  },
  {
   "cell_type": "code",
   "execution_count": 14,
   "metadata": {},
   "outputs": [],
   "source": [
    "def train(model, optimizer, X, y, steps=200, E=20):\n",
    "    losses = []\n",
    "    for it in tqdm(range(steps)):\n",
    "        optimizer.zero_grad()\n",
    "        pY, qF, qU, pU = model(X, E=E)\n",
    "        ELBO = (pY.log_prob(y)).mean(axis=0).sum()\n",
    "        ELBO -= torch.sum(distributions.kl_divergence(qU, pU))\n",
    "        loss = -ELBO\n",
    "        loss.backward()\n",
    "        optimizer.step()\n",
    "        losses.append(loss.item())\n",
    "        print(\"here\")\n",
    "        \n",
    "    return losses"
   ]
  },
  {
   "cell_type": "code",
   "execution_count": 15,
   "metadata": {},
   "outputs": [],
   "source": [
    "optimizer = optim.Adam(model.parameters(), lr=1e-3)"
   ]
  },
  {
   "cell_type": "code",
   "execution_count": 16,
   "metadata": {},
   "outputs": [
    {
     "data": {
      "application/vnd.jupyter.widget-view+json": {
       "model_id": "19c5a713bee74d48a03d62d8b290b02e",
       "version_major": 2,
       "version_minor": 0
      },
      "text/plain": [
       "  0%|          | 0/100 [00:00<?, ?it/s]"
      ]
     },
     "metadata": {},
     "output_type": "display_data"
    },
    {
     "name": "stdout",
     "output_type": "stream",
     "text": [
      "first\n"
     ]
    }
   ],
   "source": [
    "losses = train(model, optimizer, X_train, Y_train, steps=100)"
   ]
  },
  {
   "cell_type": "code",
   "execution_count": null,
   "metadata": {},
   "outputs": [],
   "source": [
    "plt.plot(losses)"
   ]
  },
  {
   "cell_type": "code",
   "execution_count": null,
   "metadata": {},
   "outputs": [],
   "source": []
  }
 ],
 "metadata": {
  "kernelspec": {
   "display_name": "Python 3.8.16 ('research')",
   "language": "python",
   "name": "python3"
  },
  "language_info": {
   "codemirror_mode": {
    "name": "ipython",
    "version": 3
   },
   "file_extension": ".py",
   "mimetype": "text/x-python",
   "name": "python",
   "nbconvert_exporter": "python",
   "pygments_lexer": "ipython3",
   "version": "3.8.16"
  },
  "orig_nbformat": 4,
  "vscode": {
   "interpreter": {
    "hash": "dcc7df95ec71decc6231014ec63448057e1acad940b8e54522bbe6640ef2a439"
   }
  }
 },
 "nbformat": 4,
 "nbformat_minor": 2
}
